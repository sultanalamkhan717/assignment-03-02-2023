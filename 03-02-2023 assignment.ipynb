{
 "cells": [
  {
   "cell_type": "markdown",
   "id": "0ad28481-7183-4de2-a153-682f1c67eeb9",
   "metadata": {},
   "source": [
    "#ANSWER NO 1"
   ]
  },
  {
   "cell_type": "code",
   "execution_count": 3,
   "id": "42e3c187-e347-46fd-9d96-9457f09d35f8",
   "metadata": {},
   "outputs": [],
   "source": [
    "def get_odd_numbers():\n",
    "    odd_numbers = []\n",
    "    for num in range(1, 26):\n",
    "        if num % 2 != 0:\n",
    "            odd_numbers.append(num)\n",
    "    return odd_numbers"
   ]
  },
  {
   "cell_type": "code",
   "execution_count": 5,
   "id": "5eccf92e-9963-41e8-b6a8-f44dd55fb1c9",
   "metadata": {},
   "outputs": [
    {
     "data": {
      "text/plain": [
       "[1, 3, 5, 7, 9, 11, 13, 15, 17, 19, 21, 23, 25]"
      ]
     },
     "execution_count": 5,
     "metadata": {},
     "output_type": "execute_result"
    }
   ],
   "source": [
    "get_odd_numbers()"
   ]
  },
  {
   "cell_type": "markdown",
   "id": "6998cfc9-f7a7-4c99-af39-b605461a5eb6",
   "metadata": {},
   "source": [
    "# answer 2"
   ]
  },
  {
   "cell_type": "code",
   "execution_count": 6,
   "id": "562db931-478d-4b6c-948a-fe748a8f038a",
   "metadata": {},
   "outputs": [],
   "source": [
    "def sum_numbers(*args):\n",
    "    result = 0\n",
    "    for num in args:\n",
    "        result += num\n",
    "    return result"
   ]
  },
  {
   "cell_type": "code",
   "execution_count": 7,
   "id": "78edea4a-b18c-484f-9f4c-9b27ae603e86",
   "metadata": {},
   "outputs": [
    {
     "name": "stdout",
     "output_type": "stream",
     "text": [
      "10\n"
     ]
    }
   ],
   "source": [
    "print(sum_numbers(1, 2, 3, 4))"
   ]
  },
  {
   "cell_type": "code",
   "execution_count": 8,
   "id": "4f2d7416-c982-4691-a5a4-d0dedce6721b",
   "metadata": {},
   "outputs": [],
   "source": [
    "def print_info(**kwargs):\n",
    "    for key, value in kwargs.items():\n",
    "        print(f\"{key}: {value}\")"
   ]
  },
  {
   "cell_type": "code",
   "execution_count": 9,
   "id": "775c800f-b616-47ed-a218-0ccda9d352fb",
   "metadata": {},
   "outputs": [
    {
     "name": "stdout",
     "output_type": "stream",
     "text": [
      "name: John\n",
      "age: 25\n",
      "occupation: Engineer\n"
     ]
    }
   ],
   "source": [
    "print_info(name=\"John\", age=25, occupation=\"Engineer\")"
   ]
  },
  {
   "cell_type": "markdown",
   "id": "9c85f9eb-e5f0-40cc-a5e8-cbd52a3041cd",
   "metadata": {},
   "source": [
    "# answer 3"
   ]
  },
  {
   "cell_type": "raw",
   "id": "e43f314b-86b4-4fe4-8d42-418171443adf",
   "metadata": {},
   "source": [
    " iterator is use for sequence looped "
   ]
  },
  {
   "cell_type": "code",
   "execution_count": 11,
   "id": "f72953fe-eeda-4764-95f2-1069b302334b",
   "metadata": {},
   "outputs": [],
   "source": [
    "list = [2,4,6,8,10,12,14,16,18,20]"
   ]
  },
  {
   "cell_type": "code",
   "execution_count": 12,
   "id": "1cf2fba0-a136-4478-adf3-0a55d61922ea",
   "metadata": {},
   "outputs": [
    {
     "name": "stdout",
     "output_type": "stream",
     "text": [
      "2\n",
      "4\n",
      "6\n",
      "8\n",
      "10\n"
     ]
    }
   ],
   "source": [
    "iterator = iter (list)\n",
    "for i in range (5):\n",
    "    value = next (iterator)\n",
    "    print (value)"
   ]
  },
  {
   "cell_type": "markdown",
   "id": "42ff65df-59d8-46af-a9ad-7d5c180a042f",
   "metadata": {},
   "source": [
    "#ANSWER 4"
   ]
  },
  {
   "cell_type": "raw",
   "id": "9ee74ea0-c656-44d2-902b-6bb474a2653b",
   "metadata": {},
   "source": [
    "Generate function are defined \"yield\" insteed of return "
   ]
  },
  {
   "cell_type": "raw",
   "id": "736f7341-fdfa-471c-835f-5401f08950e7",
   "metadata": {},
   "source": [
    "The yield keyword is used in generator functions to produce a value and then pause the execution of the function,The function can then be resumed from where it left off, generating the next value in the sequence."
   ]
  },
  {
   "cell_type": "code",
   "execution_count": 13,
   "id": "7301fc6a-71a4-4e63-b5b6-e5f5dbc2cb1d",
   "metadata": {},
   "outputs": [
    {
     "name": "stdout",
     "output_type": "stream",
     "text": [
      "2\n"
     ]
    }
   ],
   "source": [
    "def generate_even_numbers():\n",
    "    yield 2\n",
    "    yield 4\n",
    "    yield 6\n",
    "\n",
    "my_generator = generate_even_numbers()\n",
    "\n",
    "print(next(my_generator))"
   ]
  },
  {
   "cell_type": "code",
   "execution_count": 14,
   "id": "9645aac1-3b8f-47de-83aa-793b93133c20",
   "metadata": {},
   "outputs": [
    {
     "name": "stdout",
     "output_type": "stream",
     "text": [
      "4\n"
     ]
    }
   ],
   "source": [
    "print(next(my_generator))"
   ]
  },
  {
   "cell_type": "code",
   "execution_count": 15,
   "id": "e1f48712-66a5-45c0-9eff-145f14692327",
   "metadata": {},
   "outputs": [
    {
     "name": "stdout",
     "output_type": "stream",
     "text": [
      "6\n"
     ]
    }
   ],
   "source": [
    "print(next(my_generator))"
   ]
  },
  {
   "cell_type": "markdown",
   "id": "903389b2-c9bc-4580-8e3e-73aa8bc56e50",
   "metadata": {},
   "source": [
    "#ANSWER 5"
   ]
  },
  {
   "cell_type": "code",
   "execution_count": 16,
   "id": "1b69a676-ff32-4363-9f89-524d182086aa",
   "metadata": {},
   "outputs": [],
   "source": [
    "def generate_primes():\n",
    "    primes = []\n",
    "    for num in range(2, 1000):\n",
    "        for divisor in range(2, int(num ** 0.5) + 1):\n",
    "            if num % divisor == 0:\n",
    "                break\n",
    "        else:\n",
    "            primes.append(num)\n",
    "            yield num\n",
    "    "
   ]
  },
  {
   "cell_type": "code",
   "execution_count": 19,
   "id": "ae1b8860-5bdc-43dd-a01e-d59a8aabc001",
   "metadata": {},
   "outputs": [
    {
     "name": "stdout",
     "output_type": "stream",
     "text": [
      "2\n",
      "3\n",
      "5\n",
      "7\n",
      "11\n",
      "13\n",
      "17\n",
      "19\n",
      "23\n",
      "29\n",
      "31\n",
      "37\n",
      "41\n",
      "43\n",
      "47\n",
      "53\n",
      "59\n",
      "61\n",
      "67\n",
      "71\n"
     ]
    }
   ],
   "source": [
    "generator = generate_primes()\n",
    "for i in range (20):\n",
    "        prime = next(generator )\n",
    "        print (prime)"
   ]
  },
  {
   "cell_type": "markdown",
   "id": "6ef0c91c-a272-4785-9159-5de45554342d",
   "metadata": {},
   "source": [
    "#ANSWER 6"
   ]
  },
  {
   "cell_type": "code",
   "execution_count": 20,
   "id": "f7f2e5e1-810e-4bdf-8bac-fe9e8b8fdd94",
   "metadata": {},
   "outputs": [
    {
     "name": "stdout",
     "output_type": "stream",
     "text": [
      "0 1 1 2 3 5 8 13 21 34 "
     ]
    }
   ],
   "source": [
    "a, b = 0, 1\n",
    "count = 0\n",
    "\n",
    "while count < 10:\n",
    "    print(a, end=' ')\n",
    "    a, b = b, a + b\n",
    "    count += 1\n"
   ]
  },
  {
   "cell_type": "markdown",
   "id": "af94d4a7-ab5a-49db-9017-56fac35367f5",
   "metadata": {},
   "source": [
    "#ANSWER 7"
   ]
  },
  {
   "cell_type": "code",
   "execution_count": 29,
   "id": "93040748-f346-4dcb-898e-764ff8c7e919",
   "metadata": {},
   "outputs": [
    {
     "name": "stdout",
     "output_type": "stream",
     "text": [
      "['p', 'w', 's', 'k', 'i', 'l', 'l', 's']\n"
     ]
    }
   ],
   "source": [
    "string = 'pwskills'\n",
    "result = [char for char in string if char in 'pwskills']\n",
    "print(result)"
   ]
  },
  {
   "cell_type": "markdown",
   "id": "827d48c1-f625-4506-af64-1664023eaa5a",
   "metadata": {},
   "source": [
    "#answer 8"
   ]
  },
  {
   "cell_type": "code",
   "execution_count": 30,
   "id": "21eab64d-5662-40fe-afad-94f17fdfa06a",
   "metadata": {},
   "outputs": [
    {
     "name": "stdin",
     "output_type": "stream",
     "text": [
      "Enter a number:  5\n"
     ]
    },
    {
     "name": "stdout",
     "output_type": "stream",
     "text": [
      "5 is a palindrome number\n"
     ]
    }
   ],
   "source": [
    "number = int(input(\"Enter a number: \"))\n",
    "temp = number\n",
    "reverse = 0\n",
    "\n",
    "while temp > 0:\n",
    "    digit = temp % 10\n",
    "    reverse = reverse * 10 + digit\n",
    "    temp //= 10\n",
    "\n",
    "if number == reverse:\n",
    "    print(number, \"is a palindrome number\")\n",
    "else:\n",
    "    print(number, \"is not a palindrome number\")\n"
   ]
  },
  {
   "cell_type": "markdown",
   "id": "8d489273-bab1-42ef-a210-caa170cab766",
   "metadata": {},
   "source": [
    "# ANSWER 9"
   ]
  },
  {
   "cell_type": "code",
   "execution_count": 31,
   "id": "7f90093b-f685-4d00-bbb8-07251986bfaa",
   "metadata": {},
   "outputs": [
    {
     "name": "stdout",
     "output_type": "stream",
     "text": [
      "[1, 3, 5, 7, 9, 11, 13, 15, 17, 19, 21, 23, 25, 27, 29, 31, 33, 35, 37, 39, 41, 43, 45, 47, 49, 51, 53, 55, 57, 59, 61, 63, 65, 67, 69, 71, 73, 75, 77, 79, 81, 83, 85, 87, 89, 91, 93, 95, 97, 99]\n"
     ]
    }
   ],
   "source": [
    "numbers = [x for x in range(1, 101)]\n",
    "odd_numbers = [x for x in numbers if x % 2 != 0]\n",
    "print(odd_numbers)"
   ]
  },
  {
   "cell_type": "code",
   "execution_count": null,
   "id": "884ca454-349e-4975-89e1-589afeedda69",
   "metadata": {},
   "outputs": [],
   "source": []
  }
 ],
 "metadata": {
  "kernelspec": {
   "display_name": "Python 3 (ipykernel)",
   "language": "python",
   "name": "python3"
  },
  "language_info": {
   "codemirror_mode": {
    "name": "ipython",
    "version": 3
   },
   "file_extension": ".py",
   "mimetype": "text/x-python",
   "name": "python",
   "nbconvert_exporter": "python",
   "pygments_lexer": "ipython3",
   "version": "3.10.8"
  }
 },
 "nbformat": 4,
 "nbformat_minor": 5
}
